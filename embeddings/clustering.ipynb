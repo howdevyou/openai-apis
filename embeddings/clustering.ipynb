{
 "cells": [
  {
   "cell_type": "code",
   "execution_count": null,
   "metadata": {},
   "outputs": [],
   "source": [
    "%pip install openai\n",
    "%pip install python-dotenv\n",
    "%pip install scikit-learn\n",
    "%pip install matplotlib\n",
    "%pip install openai[datalib]\n",
    "%pip install urllib3==1.26.6 "
   ]
  },
  {
   "cell_type": "code",
   "execution_count": 1,
   "metadata": {},
   "outputs": [],
   "source": [
    "import os\n",
    "from dotenv import load_dotenv\n",
    "from openai import OpenAI\n",
    "from sklearn.cluster import KMeans"
   ]
  },
  {
   "cell_type": "code",
   "execution_count": 2,
   "metadata": {},
   "outputs": [
    {
     "data": {
      "text/plain": [
       "True"
      ]
     },
     "execution_count": 2,
     "metadata": {},
     "output_type": "execute_result"
    }
   ],
   "source": [
    "load_dotenv()"
   ]
  },
  {
   "cell_type": "code",
   "execution_count": 3,
   "metadata": {},
   "outputs": [],
   "source": [
    "openai_key = os.environ.get('OPENAI_KEY')\n",
    "client = OpenAI(api_key=openai_key)"
   ]
  },
  {
   "cell_type": "code",
   "execution_count": 4,
   "metadata": {},
   "outputs": [],
   "source": [
    "# list of words\n",
    "words = [\"king\", \"queen\", \"apple\", \"orange\", \"bus\", \"bicycle\", \"motorcycle\"]\n",
    "\n",
    "response = client.embeddings.create(\n",
    "            input= words,\n",
    "            model= \"text-embedding-ada-002\")\n",
    "\n",
    "# print(response.data[0].embedding)\n",
    "# print(len(response.data[0].embedding))\n",
    "# print(len(response.data[1].embedding))"
   ]
  },
  {
   "cell_type": "code",
   "execution_count": 5,
   "metadata": {},
   "outputs": [],
   "source": [
    "embeddings = []\n",
    "\n",
    "for i, embedding in enumerate(words):\n",
    "    embeddings.append(response.data[i].embedding)"
   ]
  },
  {
   "cell_type": "code",
   "execution_count": 8,
   "metadata": {},
   "outputs": [],
   "source": [
    "#categories: person, fruits, vehicle\n",
    "k = 3\n",
    "\n",
    "kmeans = KMeans(n_clusters=k, random_state=0, n_init=10).fit(embeddings)\n",
    "labels = kmeans.labels_"
   ]
  },
  {
   "cell_type": "code",
   "execution_count": null,
   "metadata": {},
   "outputs": [],
   "source": [
    "for label, word in zip(labels, words):\n",
    "    print(f\"{word}: Cluster {label}\")"
   ]
  }
 ],
 "metadata": {
  "kernelspec": {
   "display_name": "Python 3",
   "language": "python",
   "name": "python3"
  },
  "language_info": {
   "codemirror_mode": {
    "name": "ipython",
    "version": 3
   },
   "file_extension": ".py",
   "mimetype": "text/x-python",
   "name": "python",
   "nbconvert_exporter": "python",
   "pygments_lexer": "ipython3",
   "version": "3.10.6"
  }
 },
 "nbformat": 4,
 "nbformat_minor": 2
}
